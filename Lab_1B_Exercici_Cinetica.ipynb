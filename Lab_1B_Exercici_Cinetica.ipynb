{
  "nbformat": 4,
  "nbformat_minor": 0,
  "metadata": {
    "colab": {
      "provenance": [],
      "authorship_tag": "ABX9TyP0AcUmIQWsoYoxO79m4whL",
      "include_colab_link": true
    },
    "kernelspec": {
      "name": "python3",
      "display_name": "Python 3"
    },
    "language_info": {
      "name": "python"
    }
  },
  "cells": [
    {
      "cell_type": "markdown",
      "metadata": {
        "id": "view-in-github",
        "colab_type": "text"
      },
      "source": [
        "<a href=\"https://colab.research.google.com/github/Adlopo/Simulation-of-Nanometric-Systems/blob/main/Lab_1B_Exercici_Cinetica.ipynb\" target=\"_parent\"><img src=\"https://colab.research.google.com/assets/colab-badge.svg\" alt=\"Open In Colab\"/></a>"
      ]
    },
    {
      "cell_type": "markdown",
      "source": [
        "## **Exercici Cinètica**\n",
        "\n",
        "Per a la reacció 2 A → B s’han obtingut les dades següents:\n",
        "\n",
        "\n",
        "|t (s)|[B] (mol/L)|\n",
        "|-|-|\n",
        "|0|0|\n",
        "|10|0,089|\n",
        "|20|0,153|\n",
        "|30|0,200|\n",
        "|40|0,230|\n",
        "|∞|0,312|\n",
        "\n",
        "Determina l'ordre de la reacció.\n",
        "\n",
        "\n",
        "---"
      ],
      "metadata": {
        "id": "eSXw59ZYjGPZ"
      }
    },
    {
      "cell_type": "markdown",
      "source": [
        "**Solució:**\n",
        "\n",
        "Per determinar l'ordre de la reacció cal determinar la relació que hi ha entre el temps i la concentració de reactiu A. Sabem que:\n",
        "\n",
        "*   Si [A] ∝ t, la reacció és d'ordre 0.\n",
        "*   Si ln[A] ∝ t, la reacció és d'ordre 1.\n",
        "*   Si 1/[A] ∝ t, la reacció és d'ordre 2.\n",
        "\n",
        "Llavors, per determinar l'ordre de la reacció hem de representar [A] vs. t, ln[A] vs. t i 1/[A] vs. t. L'ordre de reacció correspondrà a aquell on obtinguem un comportament lineal."
      ],
      "metadata": {
        "id": "ChnSX7F1lREc"
      }
    },
    {
      "cell_type": "markdown",
      "source": [
        "Calculem la concentració [A] i els valors de ln[A] i 1/[A] pels diferents valors de t.\n",
        "\n",
        "**1.** Determinem l'equilibri de la reacció:\n",
        "\n",
        "| |2A|→|B|\n",
        "|-|-|-|-|\n",
        "|c<sub>0|[A]<sub>0| |-|\n",
        "|c<sub>r|- 2x| |+ x|\n",
        "|c<sub>t|[A]<sub>0</sub> - 2x| |x|\n",
        "\n",
        "**2.** Calculem la concentració inicial de A:\n",
        "\n",
        "A l'infinit: [A]<sub>∞</sub> = [A]<sub>0</sub> - 2x = 0 i x = 0,312.\n",
        "Per tant: [A]<sub>0</sub> = 0,624 mol/L.\n",
        "\n",
        "**3.** Calculem la concentració de A per cada temps t:\n",
        "\n",
        "Apliquem l'expressió: [A]<sub>t</sub> = [A]<sub>0</sub> - 2·[B]<sub>t</sub>"
      ],
      "metadata": {
        "id": "CYDMYtwBxr_Q"
      }
    },
    {
      "cell_type": "code",
      "source": [
        "# Importem la llibreria matemàtica\n",
        "import numpy as np\n",
        "\n",
        "# Definim una llista amb els diferents valors de t\n",
        "t = [0, 10, 20, 30, 40, np.infty]\n",
        "\n",
        "# Definim A_0 i B (només podem fer operacions si les variables són del mateix tipus; definim A_0 i B com matrius 1x6)\n",
        "A_0 = 0.624*np.array([1,1,1,1,1,1])\n",
        "B = [0,0.089,0.153,0.200,0.230,0.312]\n",
        "\n",
        "# Calculem cada valor de A, ln(A) i 1/A\n",
        "A = []      # Definim una llista buida que inclourà els valors de A\n",
        "\n",
        "i=0                 # Posició del primer element de les llistes (A_0, B, A, ln/A i 1/A)\n",
        "i_max=len(B)-1      # Posició de l'últim element de les llistes (A_0, B, A, ln/A i 1/A)\n",
        "\n",
        "while i <= i_max:           # Establim un loop que es complirà sempre que la posició de l'element no superi la posició màxima de les llistes\n",
        "     A_i = A_0[i] - 2*B[i]  # Calculem cada element de A\n",
        "     A.append(A_i)          # Afegim el valor A_i a la llista A\n",
        "     i=i+1                  # Repetim el loop\n",
        "\n",
        "print(\"Per cada valor de t (en s):\",t,\",\")\n",
        "print(\"els valors de [A] (en mol/L) són:\",A)"
      ],
      "metadata": {
        "colab": {
          "base_uri": "https://localhost:8080/"
        },
        "outputId": "be52cc4f-5ec2-46e1-c6d4-c95c5a5e11ea",
        "id": "YYBRsa4NYZmm"
      },
      "execution_count": 61,
      "outputs": [
        {
          "output_type": "stream",
          "name": "stdout",
          "text": [
            "Per cada valor de t (en s): [0, 10, 20, 30, 40, inf] ,\n",
            "els valors de [A] (en mol/L) són: [0.624, 0.446, 0.318, 0.22399999999999998, 0.16399999999999998, 0.0]\n"
          ]
        }
      ]
    },
    {
      "cell_type": "markdown",
      "source": [
        "**4.** A continuació, calculem també per cada temps t els valors de ln[A] i 1/[A]. L'últim element de A (el que correspon a t infinit) és 0, per tant, no el tindrem en compte pel càlcul de ln[A] ni 1/[A], ja que el càlcul del logaritme i la inversa de 0 divergeix."
      ],
      "metadata": {
        "id": "owY1ijyIoG2y"
      }
    },
    {
      "cell_type": "code",
      "source": [
        "# Importem la llibreria matemàtica\n",
        "import numpy as np\n",
        "\n",
        "# Definim una llista amb els 5 primers valors de t\n",
        "t = [0, 10, 20, 30, 40]\n",
        "\n",
        "# Definim A_0 i B (només podem fer operacions si les variables són del mateix tipus; definim A_0 i B com matrius 1x6)\n",
        "A_0 = 0.624*np.array([1,1,1,1,1,1])\n",
        "B = [0,0.089,0.153,0.200,0.230,0.312]\n",
        "\n",
        "# Calculem cada valor de A, ln(A) i 1/A pels 5 primers valors de t\n",
        "A = []        # Definim una llista buida que inclourà els valors de A\n",
        "ln_A = []     # Definim una llista buida que inclourà els valors de ln/A\n",
        "inv_A = []    # Definim una llista buida que inclourà els valors de 1/A\n",
        "\n",
        "i=0                 # Posició del primer element de les llistes (A_0, B, A, ln/A i 1/A)\n",
        "i_max=len(B)-2      # Posició del 5è element de les llistes (A_0, B, A, ln/A i 1/A)\n",
        "\n",
        "while i <= i_max:           # Establim un loop que es complirà sempre que la posició de l'element no superi la posició màxima de les llistes\n",
        "     A_i = A_0[i] - 2*B[i]  # Calculem cada element de A\n",
        "     ln_A_i = np.log(A_i)   # Calculem cada element de ln_A\n",
        "     inv_A_i = 1/(A_i)      # Calculem cada element de inv_A\n",
        "     A.append(A_i)          # Afegim el valor A_i a la llista A\n",
        "     ln_A.append(ln_A_i)    # Afegim el valor ln_A_i a la llista ln_A\n",
        "     inv_A.append(inv_A_i)  # Afegim el valor inv_A_i a la llista inv_A\n",
        "     i=i+1                  # Repetim el loop\n",
        "\n",
        "print(\"Per cada valor de t (en s):\",t,\",\")\n",
        "print(\"els valors de [A] (en mol/L) són:\",A,\",\")\n",
        "print(\"els valors de ln[A] són:\",ln_A,\" i \")\n",
        "print(\"els valors de 1/[A] (en L/mol) són:\",inv_A)"
      ],
      "metadata": {
        "colab": {
          "base_uri": "https://localhost:8080/"
        },
        "id": "GhuISMfRoqe2",
        "outputId": "7e8fe653-0214-4a7d-f133-dc2a9438a926"
      },
      "execution_count": 38,
      "outputs": [
        {
          "output_type": "stream",
          "name": "stdout",
          "text": [
            "Per cada valor de t (en s): [0, 10, 20, 30, 40] ,\n",
            "els valors de [A] (en mol/L) són: [0.624, 0.446, 0.318, 0.22399999999999998, 0.16399999999999998] ,\n",
            "els valors de ln[A] són: [-0.47160491061270937, -0.807436326962073, -1.1457038962019601, -1.4961092271270973, -1.8078888511579387]  i \n",
            "els valors de 1/[A] (en L/mol) són: [1.6025641025641026, 2.242152466367713, 3.144654088050314, 4.464285714285714, 6.097560975609757]\n"
          ]
        }
      ]
    },
    {
      "cell_type": "markdown",
      "source": [
        "**5.** Representem els valors [A] vs. t, ln[A] vs. t i 1/[A] vs. t:"
      ],
      "metadata": {
        "id": "hOS6-GjOqpPF"
      }
    },
    {
      "cell_type": "code",
      "source": [
        "# Importem la llibreria matemàtica i gràfica\n",
        "import numpy as np\n",
        "import matplotlib.pyplot as plt\n",
        "\n",
        "# Definim una llista amb els 5 primers valors de t\n",
        "t = [0, 10, 20, 30, 40]\n",
        "\n",
        "# Definim A_0 i B (només podem fer operacions si les variables són del mateix tipus; definim A_0 i B com matrius 1x6)\n",
        "A_0 = 0.624*np.array([1,1,1,1,1,1])\n",
        "B = [0,0.089,0.153,0.200,0.230,0.312]\n",
        "\n",
        "# Calculem cada valor de A, ln(A) i 1/A pels 5 primers valors de t\n",
        "A = []        # Definim una llista buida que inclourà els valors de A\n",
        "ln_A = []     # Definim una llista buida que inclourà els valors de ln/A\n",
        "inv_A = []    # Definim una llista buida que inclourà els valors de 1/A\n",
        "\n",
        "i=0                 # Posició del primer element de les llistes (A_0, B, A, ln/A i 1/A)\n",
        "i_max=len(B)-2      # Posició del 5è element de les llistes (A_0, B, A, ln/A i 1/A)\n",
        "\n",
        "while i <= i_max:           # Establim un loop que es complirà sempre que la posició de l'element no superi la posició màxima de les llistes\n",
        "     A_i = A_0[i] - 2*B[i]  # Calculem cada element de A\n",
        "     ln_A_i = np.log(A_i)   # Calculem cada element de ln_A\n",
        "     inv_A_i = 1/(A_i)      # Calculem cada element de inv_A\n",
        "     A.append(A_i)          # Afegim el valor A_i a la llista A\n",
        "     ln_A.append(ln_A_i)    # Afegim el valor ln_A_i a la llista ln_A\n",
        "     inv_A.append(inv_A_i)  # Afegim el valor inv_A_i a la llista inv_A\n",
        "     i=i+1                  # Repetim el loop\n",
        "\n",
        "# Representem A vs. t, ln_A vs. t i inv_A vs. t\n",
        "plt.plot(t, A, 'g', t, ln_A, 'r', t, inv_A, 'b')\n",
        "\n",
        "# Afegim els eixos i la llengenda\n",
        "plt.xlabel('t (s)')\n",
        "plt.ylabel('[A], ln/[A] i 1/[A]')\n",
        "plt.legend(['[A]', 'ln/[A]', '1/[A]'])\n",
        "\n",
        "# Mostrem el gràfic en pantalla\n",
        "plt.show()\n",
        "\n",
        "print(\"Veiem clarament que la corba 1/[A] vs. t no és lineal. Representem només les corbes [A] vs. t i ln[A] vs. t:\")\n",
        "print()\n",
        "\n",
        "# Representem A vs. t i ln_A vs. t.\n",
        "plt.plot(t, A, 'g', t, ln_A, 'r')\n",
        "\n",
        "# Afegim els eixos i la llengenda\n",
        "plt.xlabel('t (s)')\n",
        "plt.ylabel('[A] i ln/[A]')\n",
        "plt.legend(['[A]', 'ln/[A]'])\n",
        "\n",
        "# Mostrem el gràfic en pantalla\n",
        "plt.show()\n",
        "\n",
        "print(\"Veiem que la corba ln[A] vs. t és més lineal que la corba [A] vs. t.\")"
      ],
      "metadata": {
        "colab": {
          "base_uri": "https://localhost:8080/",
          "height": 936
        },
        "id": "gHI2Bc2pyCnE",
        "outputId": "7105a88a-da56-4bcf-aa26-0aa4f96a5620"
      },
      "execution_count": 62,
      "outputs": [
        {
          "output_type": "display_data",
          "data": {
            "text/plain": [
              "<Figure size 640x480 with 1 Axes>"
            ],
            "image/png": "[encoded data removed]"
          },
          "metadata": {}
        },
        {
          "output_type": "stream",
          "name": "stdout",
          "text": [
            "Veiem clarament que la corba 1/[A] vs. t no és lineal. Representem només les corbes [A] vs. t i ln[A] vs. t:\n",
            "\n"
          ]
        },
        {
          "output_type": "display_data",
          "data": {
            "text/plain": [
              "<Figure size 640x480 with 1 Axes>"
            ],
            "image/png": "[encoded data removed]"
          },
          "metadata": {}
        },
        {
          "output_type": "stream",
          "name": "stdout",
          "text": [
            "Veiem que la corba ln[A] vs. t és més lineal que la corba [A] vs. t.\n"
          ]
        }
      ]
    },
    {
      "cell_type": "markdown",
      "source": [
        "Per tant, la reacció és de **primer ordre**."
      ],
      "metadata": {
        "id": "69apsT4vuwU1"
      }
    }
  ]
}